{
 "cells": [
  {
   "cell_type": "code",
   "execution_count": 1,
   "id": "c537d3cd",
   "metadata": {},
   "outputs": [
    {
     "data": {
      "text/plain": [
       "range(0, 10)"
      ]
     },
     "execution_count": 1,
     "metadata": {},
     "output_type": "execute_result"
    }
   ],
   "source": [
    "#range() :=>Generate only integer values\n",
    "#sequence number =>1 to 10\n",
    "range(10)\n"
   ]
  },
  {
   "cell_type": "code",
   "execution_count": 2,
   "id": "0fd20d36",
   "metadata": {},
   "outputs": [
    {
     "data": {
      "text/plain": [
       "[0, 1, 2, 3, 4, 5, 6, 7, 8, 9]"
      ]
     },
     "execution_count": 2,
     "metadata": {},
     "output_type": "execute_result"
    }
   ],
   "source": [
    "list(range(10))"
   ]
  },
  {
   "cell_type": "code",
   "execution_count": 3,
   "id": "55c3c408",
   "metadata": {},
   "outputs": [
    {
     "data": {
      "text/plain": [
       "[1, 2, 3, 4, 5, 6, 7, 8, 9, 10]"
      ]
     },
     "execution_count": 3,
     "metadata": {},
     "output_type": "execute_result"
    }
   ],
   "source": [
    "list(range(1,11))"
   ]
  },
  {
   "cell_type": "code",
   "execution_count": 4,
   "id": "4a2bfa0d",
   "metadata": {},
   "outputs": [
    {
     "data": {
      "text/plain": [
       "(1, 2, 3, 4, 5, 6, 7, 8, 9, 10)"
      ]
     },
     "execution_count": 4,
     "metadata": {},
     "output_type": "execute_result"
    }
   ],
   "source": [
    "tuple(range(1,11))"
   ]
  },
  {
   "cell_type": "code",
   "execution_count": 5,
   "id": "7f5d01e3",
   "metadata": {},
   "outputs": [
    {
     "data": {
      "text/plain": [
       "[3, 6, 9, 12, 15, 18, 21, 24, 27]"
      ]
     },
     "execution_count": 5,
     "metadata": {},
     "output_type": "execute_result"
    }
   ],
   "source": [
    "list(range(3,30,3))"
   ]
  },
  {
   "cell_type": "code",
   "execution_count": 6,
   "id": "5eb23b09",
   "metadata": {},
   "outputs": [
    {
     "data": {
      "text/plain": [
       "[5, 9, 13, 17, 21, 25, 29, 33, 37, 41, 45, 49, 53, 57, 61, 65, 69, 73, 77]"
      ]
     },
     "execution_count": 6,
     "metadata": {},
     "output_type": "execute_result"
    }
   ],
   "source": [
    "list(range(5,80,4))"
   ]
  },
  {
   "cell_type": "code",
   "execution_count": 7,
   "id": "30eb5612",
   "metadata": {},
   "outputs": [
    {
     "data": {
      "text/plain": [
       "()"
      ]
     },
     "execution_count": 7,
     "metadata": {},
     "output_type": "execute_result"
    }
   ],
   "source": [
    "#step value -ve \n",
    "tuple(range(1,10,-1))"
   ]
  },
  {
   "cell_type": "code",
   "execution_count": 8,
   "id": "596bfeb5",
   "metadata": {},
   "outputs": [
    {
     "data": {
      "text/plain": [
       "(10, 9, 8, 7, 6, 5, 4, 3, 2, 1)"
      ]
     },
     "execution_count": 8,
     "metadata": {},
     "output_type": "execute_result"
    }
   ],
   "source": [
    "tuple(range(10,0,-1)) #descending order numbers"
   ]
  },
  {
   "cell_type": "code",
   "execution_count": 9,
   "id": "3fa90b5a",
   "metadata": {},
   "outputs": [
    {
     "data": {
      "text/plain": [
       "[40, 36, 32, 28, 24, 20, 16, 12, 8, 4]"
      ]
     },
     "execution_count": 9,
     "metadata": {},
     "output_type": "execute_result"
    }
   ],
   "source": [
    "list(range(40,0,-4))"
   ]
  },
  {
   "cell_type": "code",
   "execution_count": 10,
   "id": "b958a2f6",
   "metadata": {},
   "outputs": [
    {
     "data": {
      "text/plain": [
       "[2, 4, 6, 8, 10, 12, 14, 16, 18, 20, 22, 24, 26, 28, 30, 32, 34, 36, 38, 40]"
      ]
     },
     "execution_count": 10,
     "metadata": {},
     "output_type": "execute_result"
    }
   ],
   "source": [
    "list(range(2,42,2))"
   ]
  },
  {
   "cell_type": "code",
   "execution_count": 11,
   "id": "2ff8ca7a",
   "metadata": {},
   "outputs": [
    {
     "data": {
      "text/plain": [
       "[12, 10, 8, 6, 4]"
      ]
     },
     "execution_count": 11,
     "metadata": {},
     "output_type": "execute_result"
    }
   ],
   "source": [
    "list(range(12,2,-2))"
   ]
  },
  {
   "cell_type": "code",
   "execution_count": 12,
   "id": "fc76aa60",
   "metadata": {},
   "outputs": [
    {
     "data": {
      "text/plain": [
       "[]"
      ]
     },
     "execution_count": 12,
     "metadata": {},
     "output_type": "execute_result"
    }
   ],
   "source": [
    "list(range(2,12,-2))"
   ]
  },
  {
   "cell_type": "code",
   "execution_count": 13,
   "id": "3f15fe3b",
   "metadata": {},
   "outputs": [
    {
     "data": {
      "text/plain": [
       "()"
      ]
     },
     "execution_count": 13,
     "metadata": {},
     "output_type": "execute_result"
    }
   ],
   "source": [
    "tuple(range(3,13,-3))"
   ]
  },
  {
   "cell_type": "code",
   "execution_count": 14,
   "id": "9075cba8",
   "metadata": {},
   "outputs": [
    {
     "data": {
      "text/plain": [
       "(13, 10, 7, 4)"
      ]
     },
     "execution_count": 14,
     "metadata": {},
     "output_type": "execute_result"
    }
   ],
   "source": [
    "tuple(range(13,3,-3))"
   ]
  },
  {
   "cell_type": "code",
   "execution_count": 16,
   "id": "5e5ebc08",
   "metadata": {},
   "outputs": [
    {
     "name": "stdout",
     "output_type": "stream",
     "text": [
      "Happy Days\n",
      "0\n",
      "Happy Days\n",
      "1\n",
      "Happy Days\n",
      "2\n",
      "Happy Days\n",
      "3\n",
      "Happy Days\n",
      "4\n",
      "Happy Days\n",
      "5\n",
      "Happy Days\n",
      "6\n",
      "Happy Days\n",
      "7\n",
      "Happy Days\n",
      "8\n",
      "Happy Days\n",
      "9\n",
      "Happy Days\n",
      "10\n",
      "Happy Days\n",
      "11\n",
      "Happy Days\n",
      "12\n",
      "Happy Days\n",
      "13\n",
      "Happy Days\n",
      "14\n"
     ]
    }
   ],
   "source": [
    "#range() with for loop\n",
    "#print(\"Happy Days\") 15 times\n",
    "for i in range(15):\n",
    "    print(\"Happy Days\")\n",
    "    print(i)"
   ]
  },
  {
   "cell_type": "code",
   "execution_count": 17,
   "id": "1a144c04",
   "metadata": {},
   "outputs": [
    {
     "name": "stdout",
     "output_type": "stream",
     "text": [
      "Happy Diwali\n",
      "Happy Diwali\n",
      "Happy Diwali\n",
      "Happy Diwali\n",
      "Happy Diwali\n",
      "Happy Diwali\n",
      "Happy Diwali\n",
      "Happy Diwali\n",
      "Happy Diwali\n",
      "Happy Diwali\n",
      "Happy Diwali\n",
      "Happy Diwali\n",
      "Happy Diwali\n",
      "Happy Diwali\n",
      "Happy Diwali\n",
      "Happy Diwali\n",
      "Happy Diwali\n",
      "Happy Diwali\n",
      "Happy Diwali\n",
      "Happy Diwali\n",
      "Happy Diwali\n",
      "Happy Diwali\n",
      "Happy Diwali\n",
      "Happy Diwali\n",
      "Happy Diwali\n",
      "Happy Diwali\n",
      "Happy Diwali\n",
      "Happy Diwali\n",
      "Happy Diwali\n",
      "Happy Diwali\n",
      "Happy Diwali\n",
      "Happy Diwali\n",
      "Happy Diwali\n",
      "Happy Diwali\n",
      "Happy Diwali\n",
      "Happy Diwali\n",
      "Happy Diwali\n",
      "Happy Diwali\n",
      "Happy Diwali\n",
      "Happy Diwali\n",
      "Happy Diwali\n",
      "Happy Diwali\n",
      "Happy Diwali\n",
      "Happy Diwali\n",
      "Happy Diwali\n",
      "Happy Diwali\n",
      "Happy Diwali\n",
      "Happy Diwali\n",
      "Happy Diwali\n",
      "Happy Diwali\n"
     ]
    }
   ],
   "source": [
    "for i in range(1,51):\n",
    "    print(\"Happy Diwali\")"
   ]
  },
  {
   "cell_type": "code",
   "execution_count": 18,
   "id": "62688a8b",
   "metadata": {},
   "outputs": [
    {
     "name": "stdout",
     "output_type": "stream",
     "text": [
      "Even numbers 12\n",
      "Even numbers 14\n",
      "Even numbers 16\n",
      "Even numbers 18\n",
      "Even numbers 20\n"
     ]
    }
   ],
   "source": [
    "#To generate even numbers from 11 to 20 using range function.\n",
    "#input=>range()\n",
    "#process=>decide start,stop,step\n",
    "#output =>even numbers\n",
    "for number in range(12,21,2):\n",
    "    print(\"Even numbers\",number)"
   ]
  },
  {
   "cell_type": "code",
   "execution_count": 19,
   "id": "e0c63310",
   "metadata": {},
   "outputs": [
    {
     "name": "stdout",
     "output_type": "stream",
     "text": [
      "Odd numbers 11\n",
      "Odd numbers 13\n",
      "Odd numbers 15\n",
      "Odd numbers 17\n",
      "Odd numbers 19\n"
     ]
    }
   ],
   "source": [
    "#To generate odd numbers from 11 to 20 using range function.\n",
    "#input=>range()\n",
    "#process=>decide start,stop,step\n",
    "#output =>odd numbers\n",
    "for number in range(11,20,2):\n",
    "    print(\"Odd numbers\",number)"
   ]
  },
  {
   "cell_type": "code",
   "execution_count": 20,
   "id": "ba4e3535",
   "metadata": {},
   "outputs": [
    {
     "name": "stdout",
     "output_type": "stream",
     "text": [
      "Good morning\n",
      "Good morning\n",
      "Good morning\n",
      "Good morning\n",
      "Good morning\n",
      "Good morning\n"
     ]
    }
   ],
   "source": [
    "#list data type with for loop\n",
    "for number in [20,34,67,89,67,45]:\n",
    "    print(\"Good morning\")"
   ]
  },
  {
   "cell_type": "code",
   "execution_count": 21,
   "id": "005f2727",
   "metadata": {},
   "outputs": [
    {
     "name": "stdout",
     "output_type": "stream",
     "text": [
      "H\n",
      "Bye\n",
      "a\n",
      "Bye\n",
      "p\n",
      "Bye\n",
      "p\n",
      "Bye\n",
      "y\n",
      "Bye\n"
     ]
    }
   ],
   "source": [
    "#string data type with for loop\n",
    "for character in 'Happy':\n",
    "    print(character)\n",
    "    print(\"Bye\")"
   ]
  },
  {
   "cell_type": "code",
   "execution_count": 22,
   "id": "0d407f46",
   "metadata": {},
   "outputs": [
    {
     "name": "stdout",
     "output_type": "stream",
     "text": [
      "A\n",
      "b\n",
      "h\n",
      "i\n",
      "s\n",
      "h\n",
      "e\n",
      "k\n"
     ]
    }
   ],
   "source": [
    "name='Abhishek'\n",
    "for i in name:\n",
    "    print(i)"
   ]
  },
  {
   "cell_type": "code",
   "execution_count": 23,
   "id": "c518d66e",
   "metadata": {},
   "outputs": [
    {
     "name": "stdout",
     "output_type": "stream",
     "text": [
      "Sayali\n",
      "Happy Days\n",
      "Bhagyashree\n",
      "Happy Days\n",
      "Rutuja\n",
      "Happy Days\n",
      "Sakshi\n",
      "Happy Days\n",
      "Deepali\n",
      "Happy Days\n"
     ]
    }
   ],
   "source": [
    "#tuple data type\n",
    "student_name=('Sayali','Bhagyashree','Rutuja','Sakshi','Deepali')\n",
    "for name in student_name:\n",
    "    print(name)\n",
    "    print(\"Happy Days\")"
   ]
  },
  {
   "cell_type": "code",
   "execution_count": 28,
   "id": "547d26e7",
   "metadata": {},
   "outputs": [
    {
     "name": "stdout",
     "output_type": "stream",
     "text": [
      "rutuja\n",
      "Happy Days\n",
      "Deepali\n",
      "Happy Days\n",
      "Bhagyashree\n",
      "Happy Days\n",
      "Rutuja\n",
      "Happy Days\n",
      "Sayali\n",
      "Happy Days\n",
      "Sakshi\n",
      "Happy Days\n"
     ]
    }
   ],
   "source": [
    "# important=>set data type\n",
    "student_name={'Sayali','Bhagyashree','Rutuja','rutuja','Bhagyashree','Sakshi','Deepali'}\n",
    "for name in student_name:\n",
    "    print(name)\n",
    "    print(\"Happy Days\")"
   ]
  },
  {
   "cell_type": "code",
   "execution_count": 2,
   "id": "317f68c2",
   "metadata": {},
   "outputs": [
    {
     "name": "stdout",
     "output_type": "stream",
     "text": [
      "67\n",
      "Happy Days\n",
      "38\n",
      "Happy Days\n",
      "23\n",
      "Happy Days\n",
      "89\n",
      "Happy Days\n",
      "45\n",
      "Happy Days\n"
     ]
    }
   ],
   "source": [
    "#Set does not allow duplicates element.\n",
    "x={38,67,23,67,89,23,89,45}\n",
    "for i in x:\n",
    "    print(i)\n",
    "    print(\"Happy Days\")"
   ]
  },
  {
   "cell_type": "code",
   "execution_count": 3,
   "id": "0167071b",
   "metadata": {},
   "outputs": [
    {
     "name": "stdout",
     "output_type": "stream",
     "text": [
      "Hello\n",
      "Hello\n",
      "Hello\n",
      "Hello\n",
      "Hello\n"
     ]
    }
   ],
   "source": [
    "x={'apple','grapes','Grapes','banana','pineapple','pineapple'}\n",
    "for i in x:\n",
    "    print(\"Hello\")"
   ]
  },
  {
   "cell_type": "code",
   "execution_count": 4,
   "id": "1d7eb5b6",
   "metadata": {},
   "outputs": [
    {
     "name": "stdout",
     "output_type": "stream",
     "text": [
      "5\n",
      "10\n",
      "15\n",
      "20\n",
      "25\n"
     ]
    }
   ],
   "source": [
    "numbers=range(5,30,5) #5,10,15,20,25\n",
    "for i in numbers:\n",
    "    print(i)"
   ]
  },
  {
   "cell_type": "markdown",
   "id": "13c34da6",
   "metadata": {},
   "source": [
    "To display the addition of numbers from 21 to 30.\n",
    "21+22+23+.....30=>"
   ]
  },
  {
   "cell_type": "code",
   "execution_count": 22,
   "id": "844c5b84",
   "metadata": {},
   "outputs": [
    {
     "name": "stdout",
     "output_type": "stream",
     "text": [
      "Sum result is 21 and 0=0\n",
      "Sum result is 22 and 21=21\n",
      "Sum result is 23 and 43=43\n",
      "Sum result is 24 and 66=66\n",
      "Sum result is 25 and 90=90\n",
      "Sum result is 26 and 115=115\n",
      "Sum result is 27 and 141=141\n",
      "Sum result is 28 and 168=168\n",
      "Sum result is 29 and 196=196\n",
      "Sum result is 30 and 225=225\n"
     ]
    }
   ],
   "source": [
    "sum=0\n",
    "for number in range(21,31):\n",
    "    print(f\"Sum result is {number} and {sum}={sum}\")\n",
    "    sum=sum+number\n",
    "  "
   ]
  },
  {
   "cell_type": "code",
   "execution_count": 14,
   "id": "b7c70dd5",
   "metadata": {},
   "outputs": [
    {
     "data": {
      "text/plain": [
       "55.0"
      ]
     },
     "execution_count": 14,
     "metadata": {},
     "output_type": "execute_result"
    }
   ],
   "source": [
    "n=10\n",
    "s=1\n",
    "t=10\n",
    "n*(s+t)/2"
   ]
  },
  {
   "cell_type": "code",
   "execution_count": 19,
   "id": "ad54d272",
   "metadata": {},
   "outputs": [
    {
     "name": "stdout",
     "output_type": "stream",
     "text": [
      "Enter total no of numbers10\n",
      "Enter the start sequence number11\n",
      "Enter the last sequence number20\n",
      "Series sequence number addition is = 155\n"
     ]
    }
   ],
   "source": [
    "n=int(input(\"Enter total no of numbers\"))\n",
    "s=int(input(\"Enter the start sequence number\"))\n",
    "t=int(input(\"Enter the last sequence number\"))\n",
    "series_number_sum=n*(s+t)//2\n",
    "print(\"Series sequence number addition is =\",series_number_sum)"
   ]
  },
  {
   "cell_type": "code",
   "execution_count": 18,
   "id": "c21a78b1",
   "metadata": {},
   "outputs": [
    {
     "name": "stdout",
     "output_type": "stream",
     "text": [
      "Sum of numbers from 21 to 30 sum= 270\n"
     ]
    }
   ],
   "source": [
    "sum=0\n",
    "for number in range(11,26):\n",
    "    sum=sum+number\n",
    "print(\"Sum of numbers from 21 to 30 sum=\",sum)"
   ]
  },
  {
   "cell_type": "code",
   "execution_count": 24,
   "id": "06ac2ed4",
   "metadata": {},
   "outputs": [
    {
     "name": "stdout",
     "output_type": "stream",
     "text": [
      "RUBEN\n",
      "SURAJ\n",
      "SWAPNIL\n",
      "ADITYA\n",
      "AVINASH\n"
     ]
    }
   ],
   "source": [
    "#input\n",
    "names=['Ruben','Suraj','Swapnil','Aditya','Avinash']\n",
    "#process\n",
    "for name in names:\n",
    "    upper_case_name=name.upper()\n",
    "    print(upper_case_name)\n",
    "    \n"
   ]
  },
  {
   "cell_type": "code",
   "execution_count": 26,
   "id": "5f339e6a",
   "metadata": {},
   "outputs": [
    {
     "name": "stdout",
     "output_type": "stream",
     "text": [
      "nebuR\n",
      "jaruS\n",
      "linpawS\n",
      "aytidA\n",
      "hsanivA\n"
     ]
    }
   ],
   "source": [
    "#input\n",
    "names=['Ruben','Suraj','Swapnil','Aditya','Avinash']\n",
    "#process\n",
    "for name in names:\n",
    "    reverse_name=name[::-1]\n",
    "    print(reverse_name)"
   ]
  },
  {
   "cell_type": "code",
   "execution_count": 28,
   "id": "0eb6b333",
   "metadata": {},
   "outputs": [
    {
     "name": "stdout",
     "output_type": "stream",
     "text": [
      "a\n",
      "a\n"
     ]
    }
   ],
   "source": [
    "#Find the vowels in a given string.\n",
    "#vowels=>a,e,i,o,u\n",
    "person_name='Yashraj'\n",
    "for character in person_name:\n",
    "    if character in ['a','e','i','o','u']:\n",
    "        print(character)"
   ]
  },
  {
   "cell_type": "code",
   "execution_count": 32,
   "id": "1f8d1240",
   "metadata": {},
   "outputs": [
    {
     "name": "stdout",
     "output_type": "stream",
     "text": [
      "True\n",
      "True\n",
      "True\n",
      "True\n",
      "False\n",
      "False\n",
      "False\n",
      "True\n",
      "True\n",
      "True\n",
      "True\n"
     ]
    }
   ],
   "source": [
    "sample=[21,89,45,'python','',0,False,23.78,12+3j,'true',True]\n",
    "for  i in sample:\n",
    "    print(bool(i))"
   ]
  },
  {
   "cell_type": "code",
   "execution_count": 33,
   "id": "1b5ab16c",
   "metadata": {},
   "outputs": [
    {
     "name": "stdout",
     "output_type": "stream",
     "text": [
      "Outer loop\n",
      "Inner loop\n",
      "Inner loop\n",
      "Inner loop\n",
      "Outer loop\n",
      "Inner loop\n",
      "Inner loop\n",
      "Inner loop\n"
     ]
    }
   ],
   "source": [
    "for i in range(1,3):\n",
    "    print(\"Outer loop\")\n",
    "    for j in range(1,4):\n",
    "        print(\"Inner loop\")"
   ]
  },
  {
   "cell_type": "markdown",
   "id": "555d4b99",
   "metadata": {},
   "source": [
    "To display the multiplication table for 6.\n"
   ]
  },
  {
   "cell_type": "code",
   "execution_count": 35,
   "id": "899bb0ef",
   "metadata": {},
   "outputs": [
    {
     "name": "stdout",
     "output_type": "stream",
     "text": [
      "Multiplication table for 6\n",
      "6 * 1 = 6\n",
      "6 * 2 = 12\n",
      "6 * 3 = 18\n",
      "6 * 4 = 24\n",
      "6 * 5 = 30\n",
      "6 * 6 = 36\n",
      "6 * 7 = 42\n",
      "6 * 8 = 48\n",
      "6 * 9 = 54\n",
      "6 * 10 = 60\n"
     ]
    }
   ],
   "source": [
    "number=6\n",
    "print(f\"Multiplication table for {number}\")\n",
    "for i in range(1,11):\n",
    "    result=i*number\n",
    "    print(f\"{number} * {i} = {result}\")"
   ]
  },
  {
   "cell_type": "markdown",
   "id": "868a6b5c",
   "metadata": {},
   "source": [
    "To display the multiplication table from 6 to 10.\n"
   ]
  },
  {
   "cell_type": "code",
   "execution_count": 39,
   "id": "87ebca3c",
   "metadata": {},
   "outputs": [
    {
     "name": "stdout",
     "output_type": "stream",
     "text": [
      "Multiplication table for 6\n",
      "6 * 1 = 6\n",
      "6 * 2 = 12\n",
      "6 * 3 = 18\n",
      "6 * 4 = 24\n",
      "6 * 5 = 30\n",
      "6 * 6 = 36\n",
      "6 * 7 = 42\n",
      "6 * 8 = 48\n",
      "6 * 9 = 54\n",
      "6 * 10 = 60\n",
      "Multiplication table for 7\n",
      "7 * 1 = 7\n",
      "7 * 2 = 14\n",
      "7 * 3 = 21\n",
      "7 * 4 = 28\n",
      "7 * 5 = 35\n",
      "7 * 6 = 42\n",
      "7 * 7 = 49\n",
      "7 * 8 = 56\n",
      "7 * 9 = 63\n",
      "7 * 10 = 70\n",
      "Multiplication table for 8\n",
      "8 * 1 = 8\n",
      "8 * 2 = 16\n",
      "8 * 3 = 24\n",
      "8 * 4 = 32\n",
      "8 * 5 = 40\n",
      "8 * 6 = 48\n",
      "8 * 7 = 56\n",
      "8 * 8 = 64\n",
      "8 * 9 = 72\n",
      "8 * 10 = 80\n",
      "Multiplication table for 9\n",
      "9 * 1 = 9\n",
      "9 * 2 = 18\n",
      "9 * 3 = 27\n",
      "9 * 4 = 36\n",
      "9 * 5 = 45\n",
      "9 * 6 = 54\n",
      "9 * 7 = 63\n",
      "9 * 8 = 72\n",
      "9 * 9 = 81\n",
      "9 * 10 = 90\n",
      "Multiplication table for 10\n",
      "10 * 1 = 10\n",
      "10 * 2 = 20\n",
      "10 * 3 = 30\n",
      "10 * 4 = 40\n",
      "10 * 5 = 50\n",
      "10 * 6 = 60\n",
      "10 * 7 = 70\n",
      "10 * 8 = 80\n",
      "10 * 9 = 90\n",
      "10 * 10 = 100\n"
     ]
    }
   ],
   "source": [
    "result=0\n",
    "for number in range(6,11):\n",
    "    print(f\"Multiplication table for {number}\")\n",
    "    for j in range(1,11):\n",
    "        result=j*number\n",
    "        print(f\"{number} * {j} = {result}\")"
   ]
  },
  {
   "cell_type": "code",
   "execution_count": null,
   "id": "118aab8b",
   "metadata": {},
   "outputs": [],
   "source": []
  }
 ],
 "metadata": {
  "kernelspec": {
   "display_name": "Python 3 (ipykernel)",
   "language": "python",
   "name": "python3"
  },
  "language_info": {
   "codemirror_mode": {
    "name": "ipython",
    "version": 3
   },
   "file_extension": ".py",
   "mimetype": "text/x-python",
   "name": "python",
   "nbconvert_exporter": "python",
   "pygments_lexer": "ipython3",
   "version": "3.11.5"
  }
 },
 "nbformat": 4,
 "nbformat_minor": 5
}
