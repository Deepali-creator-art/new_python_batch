{
 "cells": [
  {
   "cell_type": "code",
   "execution_count": 1,
   "id": "173b9521",
   "metadata": {},
   "outputs": [
    {
     "data": {
      "text/plain": [
       "'pythonprogramming'"
      ]
     },
     "execution_count": 1,
     "metadata": {},
     "output_type": "execute_result"
    }
   ],
   "source": [
    "a='python'\n",
    "b='programming'\n",
    "a+b"
   ]
  },
  {
   "cell_type": "markdown",
   "id": "262da29b",
   "metadata": {},
   "source": [
    "# python basic concepts"
   ]
  },
  {
   "cell_type": "markdown",
   "id": "013321a3",
   "metadata": {},
   "source": [
    "print() is used to display an output message."
   ]
  },
  {
   "cell_type": "code",
   "execution_count": 4,
   "id": "669ac2b1",
   "metadata": {},
   "outputs": [
    {
     "data": {
      "text/plain": [
       "30"
      ]
     },
     "execution_count": 4,
     "metadata": {},
     "output_type": "execute_result"
    }
   ],
   "source": [
    "p=10\n",
    "q=20\n",
    "p+q"
   ]
  },
  {
   "cell_type": "code",
   "execution_count": 5,
   "id": "8a88e720",
   "metadata": {},
   "outputs": [
    {
     "data": {
      "text/plain": [
       "'pythonprogramming'"
      ]
     },
     "execution_count": 5,
     "metadata": {},
     "output_type": "execute_result"
    }
   ],
   "source": [
    "a+b"
   ]
  },
  {
   "cell_type": "code",
   "execution_count": 6,
   "id": "c787de55",
   "metadata": {},
   "outputs": [
    {
     "data": {
      "text/plain": [
       "'python'"
      ]
     },
     "execution_count": 6,
     "metadata": {},
     "output_type": "execute_result"
    }
   ],
   "source": [
    "a"
   ]
  },
  {
   "cell_type": "code",
   "execution_count": 7,
   "id": "feb4729a",
   "metadata": {},
   "outputs": [
    {
     "data": {
      "text/plain": [
       "'programming'"
      ]
     },
     "execution_count": 7,
     "metadata": {},
     "output_type": "execute_result"
    }
   ],
   "source": [
    "b"
   ]
  },
  {
   "cell_type": "markdown",
   "id": "263d15d8",
   "metadata": {},
   "source": [
    "# Data types in python"
   ]
  },
  {
   "cell_type": "markdown",
   "id": "1f62f446",
   "metadata": {},
   "source": [
    "Numeric data type :=>\n",
    "    1.Integer\n",
    "    2.Float\n",
    "    3.Complex"
   ]
  },
  {
   "cell_type": "code",
   "execution_count": 6,
   "id": "5ac34e06",
   "metadata": {},
   "outputs": [
    {
     "name": "stdout",
     "output_type": "stream",
     "text": [
      "<class 'int'>\n",
      "<class 'float'>\n",
      "<class 'complex'>\n"
     ]
    }
   ],
   "source": [
    "a=2024 #int\n",
    "b=3.12 #float\n",
    "c=3+7j #complex\n",
    "#how to identify the data type of variable\n",
    "print(type(a))\n",
    "print(type(b))\n",
    "print(type(c))"
   ]
  },
  {
   "cell_type": "markdown",
   "id": "691454a6",
   "metadata": {},
   "source": [
    "type() is function which used to identify the data type of variable."
   ]
  },
  {
   "cell_type": "markdown",
   "id": "6f888c42",
   "metadata": {},
   "source": [
    "Boolean data type => True False"
   ]
  },
  {
   "cell_type": "code",
   "execution_count": 7,
   "id": "a5c1b337",
   "metadata": {},
   "outputs": [
    {
     "data": {
      "text/plain": [
       "2"
      ]
     },
     "execution_count": 7,
     "metadata": {},
     "output_type": "execute_result"
    }
   ],
   "source": [
    "True +True"
   ]
  },
  {
   "cell_type": "code",
   "execution_count": 8,
   "id": "9581c805",
   "metadata": {},
   "outputs": [
    {
     "data": {
      "text/plain": [
       "1"
      ]
     },
     "execution_count": 8,
     "metadata": {},
     "output_type": "execute_result"
    }
   ],
   "source": [
    "True + False"
   ]
  },
  {
   "cell_type": "code",
   "execution_count": 11,
   "id": "b4a6e61a",
   "metadata": {},
   "outputs": [
    {
     "name": "stdout",
     "output_type": "stream",
     "text": [
      "['False', 'None', 'True', 'and', 'as', 'assert', 'async', 'await', 'break', 'class', 'continue', 'def', 'del', 'elif', 'else', 'except', 'finally', 'for', 'from', 'global', 'if', 'import', 'in', 'is', 'lambda', 'nonlocal', 'not', 'or', 'pass', 'raise', 'return', 'try', 'while', 'with', 'yield']\n"
     ]
    }
   ],
   "source": [
    "import keyword\n",
    "print(keyword.kwlist)"
   ]
  },
  {
   "cell_type": "code",
   "execution_count": 18,
   "id": "ecadbe9e",
   "metadata": {},
   "outputs": [],
   "source": [
    "true =100"
   ]
  },
  {
   "cell_type": "code",
   "execution_count": 19,
   "id": "e6871ed8",
   "metadata": {},
   "outputs": [
    {
     "data": {
      "text/plain": [
       "100"
      ]
     },
     "execution_count": 19,
     "metadata": {},
     "output_type": "execute_result"
    }
   ],
   "source": [
    "true"
   ]
  },
  {
   "cell_type": "code",
   "execution_count": 22,
   "id": "37fdd9d7",
   "metadata": {},
   "outputs": [
    {
     "name": "stdout",
     "output_type": "stream",
     "text": [
      "<class 'str'>\n"
     ]
    }
   ],
   "source": [
    "name='Prathmesh'\n",
    "print(type(name))"
   ]
  },
  {
   "cell_type": "code",
   "execution_count": 27,
   "id": "802fcd38",
   "metadata": {},
   "outputs": [
    {
     "name": "stdout",
     "output_type": "stream",
     "text": [
      "Enter the name3.56\n",
      "3.56\n",
      "<class 'str'>\n"
     ]
    }
   ],
   "source": [
    "x=input(\"Enter the name\")\n",
    "print(x)\n",
    "print(type(x))"
   ]
  },
  {
   "cell_type": "code",
   "execution_count": 29,
   "id": "c15d9680",
   "metadata": {},
   "outputs": [
    {
     "name": "stdout",
     "output_type": "stream",
     "text": [
      "Enter the value789\n",
      "<class 'str'>\n",
      "Enter the second value123\n",
      "<class 'str'>\n",
      "789123\n"
     ]
    }
   ],
   "source": [
    "p=input(\"Enter the value\")\n",
    "print(type(p))\n",
    "q=input(\"Enter the second value\")\n",
    "print(type(q))\n",
    "print(p+q)"
   ]
  },
  {
   "cell_type": "code",
   "execution_count": 33,
   "id": "b3222c8c",
   "metadata": {},
   "outputs": [
    {
     "name": "stdout",
     "output_type": "stream",
     "text": [
      "Enter the value45\n",
      "<class 'int'>\n",
      "Enter the second value78\n",
      "<class 'int'>\n",
      "123\n"
     ]
    }
   ],
   "source": [
    "#Convert string data type into integer\n",
    "p=int(input(\"Enter the value\"))\n",
    "print(type(p))\n",
    "q=int(input(\"Enter the second value\"))\n",
    "print(type(q))\n",
    "print(p+q)"
   ]
  },
  {
   "cell_type": "code",
   "execution_count": 31,
   "id": "f8fa8889",
   "metadata": {},
   "outputs": [
    {
     "name": "stdout",
     "output_type": "stream",
     "text": [
      "Enter the value3.56\n",
      "<class 'float'>\n",
      "Enter the second value34\n",
      "<class 'float'>\n",
      "37.56\n"
     ]
    }
   ],
   "source": [
    "#Convert string data type into float\n",
    "p=float(input(\"Enter the value\"))\n",
    "print(type(p))\n",
    "q=float(input(\"Enter the second value\"))\n",
    "print(type(q))\n",
    "print(p+q)"
   ]
  },
  {
   "cell_type": "code",
   "execution_count": 34,
   "id": "2a1a61b3",
   "metadata": {},
   "outputs": [
    {
     "name": "stdout",
     "output_type": "stream",
     "text": [
      "Enter the value34\n",
      "<class 'complex'>\n",
      "Enter the second value67\n",
      "<class 'complex'>\n",
      "(101+0j)\n"
     ]
    }
   ],
   "source": [
    "#Convert string data type into complex\n",
    "p=complex(input(\"Enter the value\"))\n",
    "print(type(p))\n",
    "q=complex(input(\"Enter the second value\"))\n",
    "print(type(q))\n",
    "print(p+q)"
   ]
  },
  {
   "cell_type": "code",
   "execution_count": 1,
   "id": "09cc692f",
   "metadata": {},
   "outputs": [
    {
     "name": "stdout",
     "output_type": "stream",
     "text": [
      "Enter the credit amount10000\n",
      "Your account  has been credited 10000 Your current available balance is 60000\n"
     ]
    }
   ],
   "source": [
    "balance_amount=50000 #constant\n",
    "#Type casting=>convert credit variable into integer\n",
    "credit=int(input(\"Enter the credit amount\"))\n",
    "balance_amount=balance_amount+credit\n",
    "print(\"Your account  has been credited\",credit,\"Your current available balance is\",balance_amount)"
   ]
  },
  {
   "cell_type": "code",
   "execution_count": 2,
   "id": "8c0a5266",
   "metadata": {},
   "outputs": [
    {
     "name": "stdout",
     "output_type": "stream",
     "text": [
      "Enter the  usernameBhagyashri\n",
      "Welcome to Bhagyashri\n"
     ]
    }
   ],
   "source": [
    "#To write print() different ways\n",
    "#Method 1\n",
    "username=input(\"Enter the  username\")\n",
    "print(\"Welcome to\",username)"
   ]
  },
  {
   "cell_type": "code",
   "execution_count": 10,
   "id": "aeca7ea5",
   "metadata": {},
   "outputs": [
    {
     "name": "stdout",
     "output_type": "stream",
     "text": [
      "Enter the  usernamerutuja\n",
      "Welcome to rutuja\n"
     ]
    }
   ],
   "source": [
    "#Method 2\n",
    "username=input(\"Enter the  username\")\n",
    "print(f\"Welcome to {username}\") #format string"
   ]
  },
  {
   "cell_type": "code",
   "execution_count": 7,
   "id": "2ef41b1e",
   "metadata": {},
   "outputs": [
    {
     "name": "stdout",
     "output_type": "stream",
     "text": [
      "Enter the  usernamesakshi\n",
      "Welcome to sakshi\n"
     ]
    }
   ],
   "source": [
    "#Method 3\n",
    "username=input(\"Enter the  username\")\n",
    "print(\"Welcome to {}\" .format(username)) # using format method"
   ]
  },
  {
   "cell_type": "code",
   "execution_count": 8,
   "id": "1047fd02",
   "metadata": {},
   "outputs": [
    {
     "name": "stdout",
     "output_type": "stream",
     "text": [
      "Enter the  usernameDeepali\n",
      "Welcome to Deepali\n"
     ]
    }
   ],
   "source": [
    "#Method 4\n",
    "username=input(\"Enter the  username\")\n",
    "print(\"Welcome to %s\" %username) # using format method"
   ]
  },
  {
   "cell_type": "code",
   "execution_count": 12,
   "id": "0d68f9bb",
   "metadata": {},
   "outputs": [
    {
     "name": "stdout",
     "output_type": "stream",
     "text": [
      "I like panipuri Don't like pizza and burger\n",
      "I like panipuri Don't like pizza and burger\n"
     ]
    }
   ],
   "source": [
    "x='pizza'\n",
    "y='burger'\n",
    "z='panipuri'\n",
    "print(\"I like\",z,\"Don't like\",x,\"and\",y)\n",
    "print(f\"I like {z} Don't like {x} and {y}\") #placeholder {}"
   ]
  },
  {
   "cell_type": "code",
   "execution_count": null,
   "id": "b37c59c7",
   "metadata": {},
   "outputs": [],
   "source": []
  }
 ],
 "metadata": {
  "kernelspec": {
   "display_name": "Python 3 (ipykernel)",
   "language": "python",
   "name": "python3"
  },
  "language_info": {
   "codemirror_mode": {
    "name": "ipython",
    "version": 3
   },
   "file_extension": ".py",
   "mimetype": "text/x-python",
   "name": "python",
   "nbconvert_exporter": "python",
   "pygments_lexer": "ipython3",
   "version": "3.11.5"
  }
 },
 "nbformat": 4,
 "nbformat_minor": 5
}
