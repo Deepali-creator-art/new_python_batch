{
 "cells": [
  {
   "cell_type": "code",
   "execution_count": 2,
   "id": "72508d1e",
   "metadata": {},
   "outputs": [
    {
     "name": "stdout",
     "output_type": "stream",
     "text": [
      "Class member python\n",
      "Welcome to class method\n"
     ]
    }
   ],
   "source": [
    "class A:\n",
    "    x='python'    #x is a class member\n",
    "    def show(a):   #show() is a class method\n",
    "        print(\"Welcome to class method\")\n",
    "a1=A() #object creation\n",
    "print(\"Class member\",a1.x)\n",
    "a1.show() #function called"
   ]
  },
  {
   "cell_type": "code",
   "execution_count": 3,
   "id": "ec18a80b",
   "metadata": {},
   "outputs": [
    {
     "name": "stdout",
     "output_type": "stream",
     "text": [
      "Class member python\n",
      "Welcome to class method\n"
     ]
    }
   ],
   "source": [
    "class A:\n",
    "    x='python'    #x is a class member\n",
    "    def show(self):   #show() is a class method\n",
    "        print(\"Welcome to class method\")\n",
    "a1=A() #object creation\n",
    "print(\"Class member\",a1.x)\n",
    "a1.show() #function called"
   ]
  },
  {
   "cell_type": "code",
   "execution_count": 2,
   "id": "e0113baf",
   "metadata": {},
   "outputs": [
    {
     "name": "stdout",
     "output_type": "stream",
     "text": [
      "Class member x= 100\n",
      "Class member y= 200\n"
     ]
    }
   ],
   "source": [
    "#How to access class members in class methods.\n",
    "#class definition \n",
    "class B:\n",
    "    x=100 #class members x and y\n",
    "    y=200\n",
    "    #class method definition\n",
    "    def display(self):\n",
    "        #class member access within a class by using self parameter\n",
    "        print(\"Class member x=\",self.x) \n",
    "        print(\"Class member y=\",self.y)\n",
    "#object creation object b1\n",
    "b1=B()\n",
    "#call class method\n",
    "b1.display()   "
   ]
  },
  {
   "cell_type": "code",
   "execution_count": 5,
   "id": "b11ea78d",
   "metadata": {},
   "outputs": [
    {
     "name": "stdout",
     "output_type": "stream",
     "text": [
      "Class member x= python\n",
      "Class member y= programming\n",
      "Method parameter firstname= Mahendra\n",
      "Method parameter lastname= Dhoni\n"
     ]
    }
   ],
   "source": [
    "#class methods with parameter\n",
    "#class definition\n",
    "class example:\n",
    "    x='python'          #class member x and y\n",
    "    y='programming'\n",
    "    def test(self,firstname,lastname):\n",
    "        print(\"Class member x=\",self.x)\n",
    "        print(\"Class member y=\",self.y)\n",
    "        print(\"Method parameter firstname=\",firstname)\n",
    "        print(\"Method parameter lastname=\",lastname)\n",
    "        \n",
    "#object creation\n",
    "e1=example()\n",
    "e1.test('Mahendra','Dhoni')"
   ]
  },
  {
   "cell_type": "code",
   "execution_count": 9,
   "id": "a86bef30",
   "metadata": {},
   "outputs": [
    {
     "name": "stdout",
     "output_type": "stream",
     "text": [
      "Class member x= python\n",
      "Class member y= programming\n",
      "Method parameter firstname= Mahendra\n",
      "Method parameter lastname= Dhoni\n",
      "Class member x= python\n",
      "Class member y= programming\n",
      "Method parameter firstname= Mahendra\n",
      "Method parameter lastname= Dhoni\n"
     ]
    }
   ],
   "source": [
    "#class methods with parameter\n",
    "#class definition\n",
    "class example:\n",
    "    x='python'          #class member x and y\n",
    "    y='programming'\n",
    "    def test(self,firstname,lastname):\n",
    "        print(\"Class member x=\",self.x)\n",
    "        print(\"Class member y=\",self.y)\n",
    "        print(\"Method parameter firstname=\",firstname)\n",
    "        print(\"Method parameter lastname=\",lastname)\n",
    "        #convert function parameter into class member\n",
    "        self.firstname=firstname #fn,ln are class member\n",
    "        self.ln=lastname\n",
    "        \n",
    "#object creation\n",
    "e1=example()\n",
    "e1.test('Mahendra','Dhoni')\n",
    "#outside a class we access class member by using an object\n",
    "print(\"Class member x=\",e1.x)\n",
    "print(\"Class member y=\",e1.y)\n",
    "#outside a class we access class method parameter\n",
    "print(\"Method parameter firstname=\",e1.firstname)\n",
    "print(\"Method parameter lastname=\",e1.ln)"
   ]
  },
  {
   "cell_type": "code",
   "execution_count": 12,
   "id": "4d8a8ab8",
   "metadata": {},
   "outputs": [
    {
     "name": "stdout",
     "output_type": "stream",
     "text": [
      "Course name python\n",
      "Student name Prathamesh\n",
      "Education BE(Computer)\n",
      "Course name python\n",
      "Student name Jay\n",
      "Education BE(E&TC)\n"
     ]
    }
   ],
   "source": [
    "#create a database student by using class.\n",
    "class student:\n",
    "    #class member course_name(Common database values)\n",
    "    course_name='python'\n",
    "    def stud_info(self,name,education):\n",
    "        #name,education are class method parameters\n",
    "        print(\"Course name\",self.course_name)\n",
    "        print(\"Student name\",name)\n",
    "        print(\"Education\",education)\n",
    "#object creation\n",
    "s1=student()\n",
    "#call class method stud_info\n",
    "s1.stud_info('Prathamesh','BE(Computer)')\n",
    "s1.stud_info('Jay','BE(E&TC)')\n",
    "    "
   ]
  },
  {
   "cell_type": "code",
   "execution_count": 13,
   "id": "b76a436f",
   "metadata": {},
   "outputs": [
    {
     "name": "stdout",
     "output_type": "stream",
     "text": [
      "Enter the student namedeepali\n",
      "Enter the educationME(Comp)\n",
      "Course name python\n",
      "Student name deepali\n",
      "Education ME(Comp)\n"
     ]
    }
   ],
   "source": [
    "#create a database student by using class.\n",
    "class student:\n",
    "    #class member course_name(Common database values)\n",
    "    course_name='python'\n",
    "    def stud_info(self,name,education):\n",
    "        #name,education are class method parameters\n",
    "        print(\"Course name\",self.course_name)\n",
    "        print(\"Student name\",name)\n",
    "        print(\"Education\",education)\n",
    "#object creation\n",
    "s1=student()\n",
    "#ake student name and education from a user\n",
    "sn=input(\"Enter the student name\")\n",
    "ed=input(\"Enter the education\")\n",
    "#call class method stud_info\n",
    "s1.stud_info(sn,ed)"
   ]
  },
  {
   "cell_type": "code",
   "execution_count": 14,
   "id": "c0ccb7b6",
   "metadata": {},
   "outputs": [
    {
     "name": "stdout",
     "output_type": "stream",
     "text": [
      "Enter the no of students2\n",
      "Enter the student namexyz\n",
      "Enter the educationM.A.\n",
      "Course name python\n",
      "Student name xyz\n",
      "Education M.A.\n",
      "Enter the student namePQR\n",
      "Enter the educationB.A\n",
      "Course name python\n",
      "Student name PQR\n",
      "Education B.A\n"
     ]
    }
   ],
   "source": [
    "#create a database student by using class.\n",
    "class student:\n",
    "    #class member course_name(Common database values)\n",
    "    course_name='python'\n",
    "    def stud_info(self,name,education):\n",
    "        #name,education are class method parameters\n",
    "        print(\"Course name\",self.course_name)\n",
    "        print(\"Student name\",name)\n",
    "        print(\"Education\",education)\n",
    "#object creation\n",
    "s1=student()\n",
    "n=int(input(\"Enter the no of students \"))\n",
    "for i in range(1,n+1):\n",
    "    #take student name and education from a user\n",
    "    sn=input(\"Enter the student name\")\n",
    "    ed=input(\"Enter the education\")\n",
    "    #call class method stud_info\n",
    "    s1.stud_info(sn,ed)"
   ]
  },
  {
   "cell_type": "code",
   "execution_count": 15,
   "id": "0a7b9c28",
   "metadata": {},
   "outputs": [
    {
     "name": "stdout",
     "output_type": "stream",
     "text": [
      "Enter the no of students 2\n",
      "Enter the student namexyz\n",
      "Enter the educationm.a\n",
      "Enter the student namepqr\n",
      "Enter the educationb.a\n",
      "  Course Name Student Name Education\n",
      "0      python          xyz       m.a\n",
      "1      python          pqr       b.a\n"
     ]
    }
   ],
   "source": [
    "#create a database student by using class.\n",
    "cn_list=[]\n",
    "sn_list=[]\n",
    "ed_list=[]\n",
    "class student:\n",
    "    #class member course_name(Common database values)\n",
    "    course_name='python'\n",
    "    def stud_info(self,name,education):\n",
    "        #name,education are class method parameters\n",
    "        cn_list.append(self.course_name)\n",
    "        sn_list.append(name)\n",
    "        ed_list.append(education)\n",
    "#object creation\n",
    "s1=student()\n",
    "n=int(input(\"Enter the no of students \"))\n",
    "for i in range(1,n+1):\n",
    "    #take student name and education from a user\n",
    "    sn=input(\"Enter the student name\")\n",
    "    ed=input(\"Enter the education\")\n",
    "    #call class method stud_info\n",
    "    s1.stud_info(sn,ed)\n",
    "#create a dictionary\n",
    "stud_dict={'Course Name':cn_list,\n",
    "          'Student Name':sn_list,\n",
    "          'Education':ed_list}\n",
    "#convert dictionary into tabular form(pandas dataframe)\n",
    "import pandas as pd\n",
    "stud_df=pd.DataFrame(stud_dict)\n",
    "print(stud_df)"
   ]
  },
  {
   "cell_type": "code",
   "execution_count": 17,
   "id": "d0556f77",
   "metadata": {},
   "outputs": [
    {
     "name": "stdout",
     "output_type": "stream",
     "text": [
      "Enter the no of students 2\n",
      "Enter the student nameSakshi\n",
      "Enter the educationB.Tech\n",
      "Enter the student nameSayali\n",
      "Enter the educationM.Sc(Computer)\n",
      "  Course Name Student Name       Education\n",
      "0      python       Sakshi          B.Tech\n",
      "1      python       Sayali  M.Sc(Computer)\n"
     ]
    }
   ],
   "source": [
    "#create a database student by using class.\n",
    "cn_list=[]\n",
    "sn_list=[]\n",
    "ed_list=[]\n",
    "class student:\n",
    "    #class member course_name(Common database values)\n",
    "    course_name='python'\n",
    "    def stud_info(self,name,education):\n",
    "        #name,education are class method parameters\n",
    "        cn_list.append(self.course_name)\n",
    "        sn_list.append(name)\n",
    "        ed_list.append(education)\n",
    "#object creation\n",
    "s1=student()\n",
    "n=int(input(\"Enter the no of students \"))\n",
    "for i in range(1,n+1):\n",
    "    #take student name and education from a user\n",
    "    sn=input(\"Enter the student name\")\n",
    "    ed=input(\"Enter the education\")\n",
    "    #call class method stud_info\n",
    "    s1.stud_info(sn,ed)\n",
    "#create a dictionary\n",
    "stud_dict={'Course Name':cn_list,\n",
    "          'Student Name':sn_list,\n",
    "          'Education':ed_list}\n",
    "#convert dictionary into tabular form(pandas dataframe)\n",
    "import pandas as pd\n",
    "stud_df=pd.DataFrame(stud_dict)\n",
    "print(stud_df)\n",
    "#convert dataframe into excelsheet\n",
    "stud_df.to_excel('student_info.xlsx')"
   ]
  },
  {
   "cell_type": "code",
   "execution_count": 18,
   "id": "40b9dbd0",
   "metadata": {},
   "outputs": [
    {
     "name": "stdout",
     "output_type": "stream",
     "text": [
      "Requirement already satisfied: openpyxl in c:\\users\\lenovo\\anaconda3\\lib\\site-packages (2.5.5)\n",
      "Requirement already satisfied: jdcal in c:\\users\\lenovo\\anaconda3\\lib\\site-packages (from openpyxl) (1.4.1)\n",
      "Requirement already satisfied: et-xmlfile in c:\\users\\lenovo\\anaconda3\\lib\\site-packages (from openpyxl) (1.1.0)\n",
      "Note: you may need to restart the kernel to use updated packages.\n"
     ]
    }
   ],
   "source": [
    "pip install openpyxl"
   ]
  },
  {
   "cell_type": "code",
   "execution_count": null,
   "id": "efd3040b",
   "metadata": {},
   "outputs": [],
   "source": []
  }
 ],
 "metadata": {
  "kernelspec": {
   "display_name": "Python 3 (ipykernel)",
   "language": "python",
   "name": "python3"
  },
  "language_info": {
   "codemirror_mode": {
    "name": "ipython",
    "version": 3
   },
   "file_extension": ".py",
   "mimetype": "text/x-python",
   "name": "python",
   "nbconvert_exporter": "python",
   "pygments_lexer": "ipython3",
   "version": "3.11.5"
  }
 },
 "nbformat": 4,
 "nbformat_minor": 5
}
